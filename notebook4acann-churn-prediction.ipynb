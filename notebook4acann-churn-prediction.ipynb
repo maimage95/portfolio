{
 "cells": [
  {
   "cell_type": "code",
   "execution_count": 1,
   "id": "36ca62b2",
   "metadata": {
    "_cell_guid": "0b508ec8-69df-48dc-bcda-def53c2596ab",
    "_uuid": "2027b64d-8238-4516-a3b2-2fd7175dcb05",
    "collapsed": false,
    "execution": {
     "iopub.execute_input": "2023-01-17T12:08:18.867091Z",
     "iopub.status.busy": "2023-01-17T12:08:18.866543Z",
     "iopub.status.idle": "2023-01-17T12:08:18.885186Z",
     "shell.execute_reply": "2023-01-17T12:08:18.883879Z"
    },
    "jupyter": {
     "outputs_hidden": false
    },
    "papermill": {
     "duration": 0.034584,
     "end_time": "2023-01-17T12:08:18.888579",
     "exception": false,
     "start_time": "2023-01-17T12:08:18.853995",
     "status": "completed"
    },
    "tags": []
   },
   "outputs": [
    {
     "name": "stdout",
     "output_type": "stream",
     "text": [
      "/kaggle/input/credit-card-customer-churn-prediction/Churn_Modelling.csv\n"
     ]
    }
   ],
   "source": [
    "# This Python 3 environment comes with many helpful analytics libraries installed\n",
    "# It is defined by the kaggle/python Docker image: https://github.com/kaggle/docker-python\n",
    "# For example, here's several helpful packages to load\n",
    "\n",
    "import numpy as np # linear algebra\n",
    "import pandas as pd # data processing, CSV file I/O (e.g. pd.read_csv)\n",
    "\n",
    "# Input data files are available in the read-only \"../input/\" directory\n",
    "# For example, running this (by clicking run or pressing Shift+Enter) will list all files under the input directory\n",
    "\n",
    "import os\n",
    "for dirname, _, filenames in os.walk('/kaggle/input'):\n",
    "    for filename in filenames:\n",
    "        print(os.path.join(dirname, filename))\n",
    "\n",
    "# You can write up to 20GB to the current directory (/kaggle/working/) that gets preserved as output when you create a version using \"Save & Run All\" \n",
    "# You can also write temporary files to /kaggle/temp/, but they won't be saved outside of the current session"
   ]
  },
  {
   "cell_type": "code",
   "execution_count": 2,
   "id": "cd6d52df",
   "metadata": {
    "_cell_guid": "197fb8b4-c0ec-456f-8850-d3f60aaf4179",
    "_uuid": "e6effbc9-7476-4749-acd0-465ab5136ea3",
    "collapsed": false,
    "execution": {
     "iopub.execute_input": "2023-01-17T12:08:18.910078Z",
     "iopub.status.busy": "2023-01-17T12:08:18.909634Z",
     "iopub.status.idle": "2023-01-17T12:08:18.960529Z",
     "shell.execute_reply": "2023-01-17T12:08:18.959469Z"
    },
    "jupyter": {
     "outputs_hidden": false
    },
    "papermill": {
     "duration": 0.064297,
     "end_time": "2023-01-17T12:08:18.963285",
     "exception": false,
     "start_time": "2023-01-17T12:08:18.898988",
     "status": "completed"
    },
    "tags": []
   },
   "outputs": [],
   "source": [
    "df= pd.read_csv('/kaggle/input/credit-card-customer-churn-prediction/Churn_Modelling.csv')"
   ]
  },
  {
   "cell_type": "code",
   "execution_count": 3,
   "id": "6c0f5c55",
   "metadata": {
    "_cell_guid": "39d2fc21-d779-4fb2-8086-bc917779e586",
    "_uuid": "3fdf8734-3304-4705-a9e1-51b49ec53305",
    "collapsed": false,
    "execution": {
     "iopub.execute_input": "2023-01-17T12:08:18.984590Z",
     "iopub.status.busy": "2023-01-17T12:08:18.983657Z",
     "iopub.status.idle": "2023-01-17T12:08:19.023306Z",
     "shell.execute_reply": "2023-01-17T12:08:19.022032Z"
    },
    "jupyter": {
     "outputs_hidden": false
    },
    "papermill": {
     "duration": 0.053161,
     "end_time": "2023-01-17T12:08:19.026122",
     "exception": false,
     "start_time": "2023-01-17T12:08:18.972961",
     "status": "completed"
    },
    "tags": []
   },
   "outputs": [
    {
     "data": {
      "text/html": [
       "<div>\n",
       "<style scoped>\n",
       "    .dataframe tbody tr th:only-of-type {\n",
       "        vertical-align: middle;\n",
       "    }\n",
       "\n",
       "    .dataframe tbody tr th {\n",
       "        vertical-align: top;\n",
       "    }\n",
       "\n",
       "    .dataframe thead th {\n",
       "        text-align: right;\n",
       "    }\n",
       "</style>\n",
       "<table border=\"1\" class=\"dataframe\">\n",
       "  <thead>\n",
       "    <tr style=\"text-align: right;\">\n",
       "      <th></th>\n",
       "      <th>RowNumber</th>\n",
       "      <th>CustomerId</th>\n",
       "      <th>Surname</th>\n",
       "      <th>CreditScore</th>\n",
       "      <th>Geography</th>\n",
       "      <th>Gender</th>\n",
       "      <th>Age</th>\n",
       "      <th>Tenure</th>\n",
       "      <th>Balance</th>\n",
       "      <th>NumOfProducts</th>\n",
       "      <th>HasCrCard</th>\n",
       "      <th>IsActiveMember</th>\n",
       "      <th>EstimatedSalary</th>\n",
       "      <th>Exited</th>\n",
       "    </tr>\n",
       "  </thead>\n",
       "  <tbody>\n",
       "    <tr>\n",
       "      <th>0</th>\n",
       "      <td>1</td>\n",
       "      <td>15634602</td>\n",
       "      <td>Hargrave</td>\n",
       "      <td>619</td>\n",
       "      <td>France</td>\n",
       "      <td>Female</td>\n",
       "      <td>42</td>\n",
       "      <td>2</td>\n",
       "      <td>0.00</td>\n",
       "      <td>1</td>\n",
       "      <td>1</td>\n",
       "      <td>1</td>\n",
       "      <td>101348.88</td>\n",
       "      <td>1</td>\n",
       "    </tr>\n",
       "    <tr>\n",
       "      <th>1</th>\n",
       "      <td>2</td>\n",
       "      <td>15647311</td>\n",
       "      <td>Hill</td>\n",
       "      <td>608</td>\n",
       "      <td>Spain</td>\n",
       "      <td>Female</td>\n",
       "      <td>41</td>\n",
       "      <td>1</td>\n",
       "      <td>83807.86</td>\n",
       "      <td>1</td>\n",
       "      <td>0</td>\n",
       "      <td>1</td>\n",
       "      <td>112542.58</td>\n",
       "      <td>0</td>\n",
       "    </tr>\n",
       "    <tr>\n",
       "      <th>2</th>\n",
       "      <td>3</td>\n",
       "      <td>15619304</td>\n",
       "      <td>Onio</td>\n",
       "      <td>502</td>\n",
       "      <td>France</td>\n",
       "      <td>Female</td>\n",
       "      <td>42</td>\n",
       "      <td>8</td>\n",
       "      <td>159660.80</td>\n",
       "      <td>3</td>\n",
       "      <td>1</td>\n",
       "      <td>0</td>\n",
       "      <td>113931.57</td>\n",
       "      <td>1</td>\n",
       "    </tr>\n",
       "    <tr>\n",
       "      <th>3</th>\n",
       "      <td>4</td>\n",
       "      <td>15701354</td>\n",
       "      <td>Boni</td>\n",
       "      <td>699</td>\n",
       "      <td>France</td>\n",
       "      <td>Female</td>\n",
       "      <td>39</td>\n",
       "      <td>1</td>\n",
       "      <td>0.00</td>\n",
       "      <td>2</td>\n",
       "      <td>0</td>\n",
       "      <td>0</td>\n",
       "      <td>93826.63</td>\n",
       "      <td>0</td>\n",
       "    </tr>\n",
       "    <tr>\n",
       "      <th>4</th>\n",
       "      <td>5</td>\n",
       "      <td>15737888</td>\n",
       "      <td>Mitchell</td>\n",
       "      <td>850</td>\n",
       "      <td>Spain</td>\n",
       "      <td>Female</td>\n",
       "      <td>43</td>\n",
       "      <td>2</td>\n",
       "      <td>125510.82</td>\n",
       "      <td>1</td>\n",
       "      <td>1</td>\n",
       "      <td>1</td>\n",
       "      <td>79084.10</td>\n",
       "      <td>0</td>\n",
       "    </tr>\n",
       "    <tr>\n",
       "      <th>...</th>\n",
       "      <td>...</td>\n",
       "      <td>...</td>\n",
       "      <td>...</td>\n",
       "      <td>...</td>\n",
       "      <td>...</td>\n",
       "      <td>...</td>\n",
       "      <td>...</td>\n",
       "      <td>...</td>\n",
       "      <td>...</td>\n",
       "      <td>...</td>\n",
       "      <td>...</td>\n",
       "      <td>...</td>\n",
       "      <td>...</td>\n",
       "      <td>...</td>\n",
       "    </tr>\n",
       "    <tr>\n",
       "      <th>9995</th>\n",
       "      <td>9996</td>\n",
       "      <td>15606229</td>\n",
       "      <td>Obijiaku</td>\n",
       "      <td>771</td>\n",
       "      <td>France</td>\n",
       "      <td>Male</td>\n",
       "      <td>39</td>\n",
       "      <td>5</td>\n",
       "      <td>0.00</td>\n",
       "      <td>2</td>\n",
       "      <td>1</td>\n",
       "      <td>0</td>\n",
       "      <td>96270.64</td>\n",
       "      <td>0</td>\n",
       "    </tr>\n",
       "    <tr>\n",
       "      <th>9996</th>\n",
       "      <td>9997</td>\n",
       "      <td>15569892</td>\n",
       "      <td>Johnstone</td>\n",
       "      <td>516</td>\n",
       "      <td>France</td>\n",
       "      <td>Male</td>\n",
       "      <td>35</td>\n",
       "      <td>10</td>\n",
       "      <td>57369.61</td>\n",
       "      <td>1</td>\n",
       "      <td>1</td>\n",
       "      <td>1</td>\n",
       "      <td>101699.77</td>\n",
       "      <td>0</td>\n",
       "    </tr>\n",
       "    <tr>\n",
       "      <th>9997</th>\n",
       "      <td>9998</td>\n",
       "      <td>15584532</td>\n",
       "      <td>Liu</td>\n",
       "      <td>709</td>\n",
       "      <td>France</td>\n",
       "      <td>Female</td>\n",
       "      <td>36</td>\n",
       "      <td>7</td>\n",
       "      <td>0.00</td>\n",
       "      <td>1</td>\n",
       "      <td>0</td>\n",
       "      <td>1</td>\n",
       "      <td>42085.58</td>\n",
       "      <td>1</td>\n",
       "    </tr>\n",
       "    <tr>\n",
       "      <th>9998</th>\n",
       "      <td>9999</td>\n",
       "      <td>15682355</td>\n",
       "      <td>Sabbatini</td>\n",
       "      <td>772</td>\n",
       "      <td>Germany</td>\n",
       "      <td>Male</td>\n",
       "      <td>42</td>\n",
       "      <td>3</td>\n",
       "      <td>75075.31</td>\n",
       "      <td>2</td>\n",
       "      <td>1</td>\n",
       "      <td>0</td>\n",
       "      <td>92888.52</td>\n",
       "      <td>1</td>\n",
       "    </tr>\n",
       "    <tr>\n",
       "      <th>9999</th>\n",
       "      <td>10000</td>\n",
       "      <td>15628319</td>\n",
       "      <td>Walker</td>\n",
       "      <td>792</td>\n",
       "      <td>France</td>\n",
       "      <td>Female</td>\n",
       "      <td>28</td>\n",
       "      <td>4</td>\n",
       "      <td>130142.79</td>\n",
       "      <td>1</td>\n",
       "      <td>1</td>\n",
       "      <td>0</td>\n",
       "      <td>38190.78</td>\n",
       "      <td>0</td>\n",
       "    </tr>\n",
       "  </tbody>\n",
       "</table>\n",
       "<p>10000 rows × 14 columns</p>\n",
       "</div>"
      ],
      "text/plain": [
       "      RowNumber  CustomerId    Surname  CreditScore Geography  Gender  Age  \\\n",
       "0             1    15634602   Hargrave          619    France  Female   42   \n",
       "1             2    15647311       Hill          608     Spain  Female   41   \n",
       "2             3    15619304       Onio          502    France  Female   42   \n",
       "3             4    15701354       Boni          699    France  Female   39   \n",
       "4             5    15737888   Mitchell          850     Spain  Female   43   \n",
       "...         ...         ...        ...          ...       ...     ...  ...   \n",
       "9995       9996    15606229   Obijiaku          771    France    Male   39   \n",
       "9996       9997    15569892  Johnstone          516    France    Male   35   \n",
       "9997       9998    15584532        Liu          709    France  Female   36   \n",
       "9998       9999    15682355  Sabbatini          772   Germany    Male   42   \n",
       "9999      10000    15628319     Walker          792    France  Female   28   \n",
       "\n",
       "      Tenure    Balance  NumOfProducts  HasCrCard  IsActiveMember  \\\n",
       "0          2       0.00              1          1               1   \n",
       "1          1   83807.86              1          0               1   \n",
       "2          8  159660.80              3          1               0   \n",
       "3          1       0.00              2          0               0   \n",
       "4          2  125510.82              1          1               1   \n",
       "...      ...        ...            ...        ...             ...   \n",
       "9995       5       0.00              2          1               0   \n",
       "9996      10   57369.61              1          1               1   \n",
       "9997       7       0.00              1          0               1   \n",
       "9998       3   75075.31              2          1               0   \n",
       "9999       4  130142.79              1          1               0   \n",
       "\n",
       "      EstimatedSalary  Exited  \n",
       "0           101348.88       1  \n",
       "1           112542.58       0  \n",
       "2           113931.57       1  \n",
       "3            93826.63       0  \n",
       "4            79084.10       0  \n",
       "...               ...     ...  \n",
       "9995         96270.64       0  \n",
       "9996        101699.77       0  \n",
       "9997         42085.58       1  \n",
       "9998         92888.52       1  \n",
       "9999         38190.78       0  \n",
       "\n",
       "[10000 rows x 14 columns]"
      ]
     },
     "execution_count": 3,
     "metadata": {},
     "output_type": "execute_result"
    }
   ],
   "source": [
    "df"
   ]
  },
  {
   "cell_type": "code",
   "execution_count": 4,
   "id": "7c81f39a",
   "metadata": {
    "_cell_guid": "ca707224-f3d5-4ce3-b51c-e81a65b5c5ee",
    "_uuid": "cefa066e-f7cd-4cf3-a089-5e8b2ad3ee2f",
    "collapsed": false,
    "execution": {
     "iopub.execute_input": "2023-01-17T12:08:19.047592Z",
     "iopub.status.busy": "2023-01-17T12:08:19.046471Z",
     "iopub.status.idle": "2023-01-17T12:08:19.064598Z",
     "shell.execute_reply": "2023-01-17T12:08:19.063349Z"
    },
    "jupyter": {
     "outputs_hidden": false
    },
    "papermill": {
     "duration": 0.032356,
     "end_time": "2023-01-17T12:08:19.067994",
     "exception": false,
     "start_time": "2023-01-17T12:08:19.035638",
     "status": "completed"
    },
    "tags": []
   },
   "outputs": [
    {
     "data": {
      "text/html": [
       "<div>\n",
       "<style scoped>\n",
       "    .dataframe tbody tr th:only-of-type {\n",
       "        vertical-align: middle;\n",
       "    }\n",
       "\n",
       "    .dataframe tbody tr th {\n",
       "        vertical-align: top;\n",
       "    }\n",
       "\n",
       "    .dataframe thead th {\n",
       "        text-align: right;\n",
       "    }\n",
       "</style>\n",
       "<table border=\"1\" class=\"dataframe\">\n",
       "  <thead>\n",
       "    <tr style=\"text-align: right;\">\n",
       "      <th></th>\n",
       "      <th>RowNumber</th>\n",
       "      <th>CustomerId</th>\n",
       "      <th>Surname</th>\n",
       "      <th>CreditScore</th>\n",
       "      <th>Geography</th>\n",
       "      <th>Gender</th>\n",
       "      <th>Age</th>\n",
       "      <th>Tenure</th>\n",
       "      <th>Balance</th>\n",
       "      <th>NumOfProducts</th>\n",
       "      <th>HasCrCard</th>\n",
       "      <th>IsActiveMember</th>\n",
       "      <th>EstimatedSalary</th>\n",
       "      <th>Exited</th>\n",
       "    </tr>\n",
       "  </thead>\n",
       "  <tbody>\n",
       "    <tr>\n",
       "      <th>0</th>\n",
       "      <td>1</td>\n",
       "      <td>15634602</td>\n",
       "      <td>Hargrave</td>\n",
       "      <td>619</td>\n",
       "      <td>France</td>\n",
       "      <td>Female</td>\n",
       "      <td>42</td>\n",
       "      <td>2</td>\n",
       "      <td>0.00</td>\n",
       "      <td>1</td>\n",
       "      <td>1</td>\n",
       "      <td>1</td>\n",
       "      <td>101348.88</td>\n",
       "      <td>1</td>\n",
       "    </tr>\n",
       "    <tr>\n",
       "      <th>1</th>\n",
       "      <td>2</td>\n",
       "      <td>15647311</td>\n",
       "      <td>Hill</td>\n",
       "      <td>608</td>\n",
       "      <td>Spain</td>\n",
       "      <td>Female</td>\n",
       "      <td>41</td>\n",
       "      <td>1</td>\n",
       "      <td>83807.86</td>\n",
       "      <td>1</td>\n",
       "      <td>0</td>\n",
       "      <td>1</td>\n",
       "      <td>112542.58</td>\n",
       "      <td>0</td>\n",
       "    </tr>\n",
       "    <tr>\n",
       "      <th>2</th>\n",
       "      <td>3</td>\n",
       "      <td>15619304</td>\n",
       "      <td>Onio</td>\n",
       "      <td>502</td>\n",
       "      <td>France</td>\n",
       "      <td>Female</td>\n",
       "      <td>42</td>\n",
       "      <td>8</td>\n",
       "      <td>159660.80</td>\n",
       "      <td>3</td>\n",
       "      <td>1</td>\n",
       "      <td>0</td>\n",
       "      <td>113931.57</td>\n",
       "      <td>1</td>\n",
       "    </tr>\n",
       "    <tr>\n",
       "      <th>3</th>\n",
       "      <td>4</td>\n",
       "      <td>15701354</td>\n",
       "      <td>Boni</td>\n",
       "      <td>699</td>\n",
       "      <td>France</td>\n",
       "      <td>Female</td>\n",
       "      <td>39</td>\n",
       "      <td>1</td>\n",
       "      <td>0.00</td>\n",
       "      <td>2</td>\n",
       "      <td>0</td>\n",
       "      <td>0</td>\n",
       "      <td>93826.63</td>\n",
       "      <td>0</td>\n",
       "    </tr>\n",
       "    <tr>\n",
       "      <th>4</th>\n",
       "      <td>5</td>\n",
       "      <td>15737888</td>\n",
       "      <td>Mitchell</td>\n",
       "      <td>850</td>\n",
       "      <td>Spain</td>\n",
       "      <td>Female</td>\n",
       "      <td>43</td>\n",
       "      <td>2</td>\n",
       "      <td>125510.82</td>\n",
       "      <td>1</td>\n",
       "      <td>1</td>\n",
       "      <td>1</td>\n",
       "      <td>79084.10</td>\n",
       "      <td>0</td>\n",
       "    </tr>\n",
       "  </tbody>\n",
       "</table>\n",
       "</div>"
      ],
      "text/plain": [
       "   RowNumber  CustomerId   Surname  CreditScore Geography  Gender  Age  \\\n",
       "0          1    15634602  Hargrave          619    France  Female   42   \n",
       "1          2    15647311      Hill          608     Spain  Female   41   \n",
       "2          3    15619304      Onio          502    France  Female   42   \n",
       "3          4    15701354      Boni          699    France  Female   39   \n",
       "4          5    15737888  Mitchell          850     Spain  Female   43   \n",
       "\n",
       "   Tenure    Balance  NumOfProducts  HasCrCard  IsActiveMember  \\\n",
       "0       2       0.00              1          1               1   \n",
       "1       1   83807.86              1          0               1   \n",
       "2       8  159660.80              3          1               0   \n",
       "3       1       0.00              2          0               0   \n",
       "4       2  125510.82              1          1               1   \n",
       "\n",
       "   EstimatedSalary  Exited  \n",
       "0        101348.88       1  \n",
       "1        112542.58       0  \n",
       "2        113931.57       1  \n",
       "3         93826.63       0  \n",
       "4         79084.10       0  "
      ]
     },
     "execution_count": 4,
     "metadata": {},
     "output_type": "execute_result"
    }
   ],
   "source": [
    "df.head()"
   ]
  },
  {
   "cell_type": "code",
   "execution_count": 5,
   "id": "c586a68a",
   "metadata": {
    "_cell_guid": "98f69b48-3006-44dc-9839-4567ae264047",
    "_uuid": "751488c5-2614-4f1d-99ac-b1ad6cf26195",
    "collapsed": false,
    "execution": {
     "iopub.execute_input": "2023-01-17T12:08:19.091478Z",
     "iopub.status.busy": "2023-01-17T12:08:19.091058Z",
     "iopub.status.idle": "2023-01-17T12:08:19.101947Z",
     "shell.execute_reply": "2023-01-17T12:08:19.100927Z"
    },
    "jupyter": {
     "outputs_hidden": false
    },
    "papermill": {
     "duration": 0.024779,
     "end_time": "2023-01-17T12:08:19.104449",
     "exception": false,
     "start_time": "2023-01-17T12:08:19.079670",
     "status": "completed"
    },
    "tags": []
   },
   "outputs": [],
   "source": [
    "#Deleting unwanted columns\n",
    "df.drop(columns=['RowNumber','CustomerId','Surname'],inplace=True)"
   ]
  },
  {
   "cell_type": "code",
   "execution_count": 6,
   "id": "cc0bcdf8",
   "metadata": {
    "_cell_guid": "6144caaa-8a05-4072-bc65-d681b29ae4a9",
    "_uuid": "8a64145e-c114-4fa9-a2f0-933506246f35",
    "collapsed": false,
    "execution": {
     "iopub.execute_input": "2023-01-17T12:08:19.127652Z",
     "iopub.status.busy": "2023-01-17T12:08:19.127197Z",
     "iopub.status.idle": "2023-01-17T12:08:19.143849Z",
     "shell.execute_reply": "2023-01-17T12:08:19.142652Z"
    },
    "jupyter": {
     "outputs_hidden": false
    },
    "papermill": {
     "duration": 0.03157,
     "end_time": "2023-01-17T12:08:19.146182",
     "exception": false,
     "start_time": "2023-01-17T12:08:19.114612",
     "status": "completed"
    },
    "tags": []
   },
   "outputs": [
    {
     "data": {
      "text/html": [
       "<div>\n",
       "<style scoped>\n",
       "    .dataframe tbody tr th:only-of-type {\n",
       "        vertical-align: middle;\n",
       "    }\n",
       "\n",
       "    .dataframe tbody tr th {\n",
       "        vertical-align: top;\n",
       "    }\n",
       "\n",
       "    .dataframe thead th {\n",
       "        text-align: right;\n",
       "    }\n",
       "</style>\n",
       "<table border=\"1\" class=\"dataframe\">\n",
       "  <thead>\n",
       "    <tr style=\"text-align: right;\">\n",
       "      <th></th>\n",
       "      <th>CreditScore</th>\n",
       "      <th>Geography</th>\n",
       "      <th>Gender</th>\n",
       "      <th>Age</th>\n",
       "      <th>Tenure</th>\n",
       "      <th>Balance</th>\n",
       "      <th>NumOfProducts</th>\n",
       "      <th>HasCrCard</th>\n",
       "      <th>IsActiveMember</th>\n",
       "      <th>EstimatedSalary</th>\n",
       "      <th>Exited</th>\n",
       "    </tr>\n",
       "  </thead>\n",
       "  <tbody>\n",
       "    <tr>\n",
       "      <th>0</th>\n",
       "      <td>619</td>\n",
       "      <td>France</td>\n",
       "      <td>Female</td>\n",
       "      <td>42</td>\n",
       "      <td>2</td>\n",
       "      <td>0.00</td>\n",
       "      <td>1</td>\n",
       "      <td>1</td>\n",
       "      <td>1</td>\n",
       "      <td>101348.88</td>\n",
       "      <td>1</td>\n",
       "    </tr>\n",
       "    <tr>\n",
       "      <th>1</th>\n",
       "      <td>608</td>\n",
       "      <td>Spain</td>\n",
       "      <td>Female</td>\n",
       "      <td>41</td>\n",
       "      <td>1</td>\n",
       "      <td>83807.86</td>\n",
       "      <td>1</td>\n",
       "      <td>0</td>\n",
       "      <td>1</td>\n",
       "      <td>112542.58</td>\n",
       "      <td>0</td>\n",
       "    </tr>\n",
       "    <tr>\n",
       "      <th>2</th>\n",
       "      <td>502</td>\n",
       "      <td>France</td>\n",
       "      <td>Female</td>\n",
       "      <td>42</td>\n",
       "      <td>8</td>\n",
       "      <td>159660.80</td>\n",
       "      <td>3</td>\n",
       "      <td>1</td>\n",
       "      <td>0</td>\n",
       "      <td>113931.57</td>\n",
       "      <td>1</td>\n",
       "    </tr>\n",
       "    <tr>\n",
       "      <th>3</th>\n",
       "      <td>699</td>\n",
       "      <td>France</td>\n",
       "      <td>Female</td>\n",
       "      <td>39</td>\n",
       "      <td>1</td>\n",
       "      <td>0.00</td>\n",
       "      <td>2</td>\n",
       "      <td>0</td>\n",
       "      <td>0</td>\n",
       "      <td>93826.63</td>\n",
       "      <td>0</td>\n",
       "    </tr>\n",
       "    <tr>\n",
       "      <th>4</th>\n",
       "      <td>850</td>\n",
       "      <td>Spain</td>\n",
       "      <td>Female</td>\n",
       "      <td>43</td>\n",
       "      <td>2</td>\n",
       "      <td>125510.82</td>\n",
       "      <td>1</td>\n",
       "      <td>1</td>\n",
       "      <td>1</td>\n",
       "      <td>79084.10</td>\n",
       "      <td>0</td>\n",
       "    </tr>\n",
       "  </tbody>\n",
       "</table>\n",
       "</div>"
      ],
      "text/plain": [
       "   CreditScore Geography  Gender  Age  Tenure    Balance  NumOfProducts  \\\n",
       "0          619    France  Female   42       2       0.00              1   \n",
       "1          608     Spain  Female   41       1   83807.86              1   \n",
       "2          502    France  Female   42       8  159660.80              3   \n",
       "3          699    France  Female   39       1       0.00              2   \n",
       "4          850     Spain  Female   43       2  125510.82              1   \n",
       "\n",
       "   HasCrCard  IsActiveMember  EstimatedSalary  Exited  \n",
       "0          1               1        101348.88       1  \n",
       "1          0               1        112542.58       0  \n",
       "2          1               0        113931.57       1  \n",
       "3          0               0         93826.63       0  \n",
       "4          1               1         79084.10       0  "
      ]
     },
     "execution_count": 6,
     "metadata": {},
     "output_type": "execute_result"
    }
   ],
   "source": [
    "df.head()"
   ]
  },
  {
   "cell_type": "code",
   "execution_count": 7,
   "id": "3f476b9e",
   "metadata": {
    "_cell_guid": "b2c26c5e-0c3b-4c41-8826-c219336c6f06",
    "_uuid": "0564ef1b-f0c6-4859-86d4-9711175baa8c",
    "collapsed": false,
    "execution": {
     "iopub.execute_input": "2023-01-17T12:08:19.169439Z",
     "iopub.status.busy": "2023-01-17T12:08:19.168087Z",
     "iopub.status.idle": "2023-01-17T12:08:19.180546Z",
     "shell.execute_reply": "2023-01-17T12:08:19.179241Z"
    },
    "jupyter": {
     "outputs_hidden": false
    },
    "papermill": {
     "duration": 0.026396,
     "end_time": "2023-01-17T12:08:19.182943",
     "exception": false,
     "start_time": "2023-01-17T12:08:19.156547",
     "status": "completed"
    },
    "tags": []
   },
   "outputs": [
    {
     "data": {
      "text/plain": [
       "France     5014\n",
       "Germany    2509\n",
       "Spain      2477\n",
       "Name: Geography, dtype: int64"
      ]
     },
     "execution_count": 7,
     "metadata": {},
     "output_type": "execute_result"
    }
   ],
   "source": [
    "df['Geography'].value_counts()"
   ]
  },
  {
   "cell_type": "code",
   "execution_count": 8,
   "id": "ede1e687",
   "metadata": {
    "_cell_guid": "2583dced-6962-4786-a1d5-b6106999f16f",
    "_uuid": "4036d2cb-b403-4d98-8b97-de8fc971c377",
    "collapsed": false,
    "execution": {
     "iopub.execute_input": "2023-01-17T12:08:19.205897Z",
     "iopub.status.busy": "2023-01-17T12:08:19.204843Z",
     "iopub.status.idle": "2023-01-17T12:08:19.213312Z",
     "shell.execute_reply": "2023-01-17T12:08:19.212489Z"
    },
    "jupyter": {
     "outputs_hidden": false
    },
    "papermill": {
     "duration": 0.022236,
     "end_time": "2023-01-17T12:08:19.215544",
     "exception": false,
     "start_time": "2023-01-17T12:08:19.193308",
     "status": "completed"
    },
    "tags": []
   },
   "outputs": [
    {
     "data": {
      "text/plain": [
       "Male      5457\n",
       "Female    4543\n",
       "Name: Gender, dtype: int64"
      ]
     },
     "execution_count": 8,
     "metadata": {},
     "output_type": "execute_result"
    }
   ],
   "source": [
    "df['Gender'].value_counts()"
   ]
  },
  {
   "cell_type": "code",
   "execution_count": 9,
   "id": "c1035d99",
   "metadata": {
    "_cell_guid": "c987182f-d70a-4e48-b18d-dff1aba8b198",
    "_uuid": "deb17fcd-80d4-4730-9640-0da5547b6915",
    "collapsed": false,
    "execution": {
     "iopub.execute_input": "2023-01-17T12:08:19.239548Z",
     "iopub.status.busy": "2023-01-17T12:08:19.238819Z",
     "iopub.status.idle": "2023-01-17T12:08:19.253698Z",
     "shell.execute_reply": "2023-01-17T12:08:19.252649Z"
    },
    "jupyter": {
     "outputs_hidden": false
    },
    "papermill": {
     "duration": 0.030089,
     "end_time": "2023-01-17T12:08:19.256358",
     "exception": false,
     "start_time": "2023-01-17T12:08:19.226269",
     "status": "completed"
    },
    "tags": []
   },
   "outputs": [],
   "source": [
    "df = pd.get_dummies(df,columns=['Geography','Gender'],drop_first=True)"
   ]
  },
  {
   "cell_type": "code",
   "execution_count": 10,
   "id": "a0133231",
   "metadata": {
    "_cell_guid": "81d55d36-ce2e-432a-8c2a-274b7f83302d",
    "_uuid": "b5c225ff-f6d0-4911-96f9-3eec59f50f46",
    "collapsed": false,
    "execution": {
     "iopub.execute_input": "2023-01-17T12:08:19.279685Z",
     "iopub.status.busy": "2023-01-17T12:08:19.278499Z",
     "iopub.status.idle": "2023-01-17T12:08:19.295239Z",
     "shell.execute_reply": "2023-01-17T12:08:19.293900Z"
    },
    "jupyter": {
     "outputs_hidden": false
    },
    "papermill": {
     "duration": 0.031238,
     "end_time": "2023-01-17T12:08:19.297943",
     "exception": false,
     "start_time": "2023-01-17T12:08:19.266705",
     "status": "completed"
    },
    "tags": []
   },
   "outputs": [
    {
     "data": {
      "text/html": [
       "<div>\n",
       "<style scoped>\n",
       "    .dataframe tbody tr th:only-of-type {\n",
       "        vertical-align: middle;\n",
       "    }\n",
       "\n",
       "    .dataframe tbody tr th {\n",
       "        vertical-align: top;\n",
       "    }\n",
       "\n",
       "    .dataframe thead th {\n",
       "        text-align: right;\n",
       "    }\n",
       "</style>\n",
       "<table border=\"1\" class=\"dataframe\">\n",
       "  <thead>\n",
       "    <tr style=\"text-align: right;\">\n",
       "      <th></th>\n",
       "      <th>CreditScore</th>\n",
       "      <th>Age</th>\n",
       "      <th>Tenure</th>\n",
       "      <th>Balance</th>\n",
       "      <th>NumOfProducts</th>\n",
       "      <th>HasCrCard</th>\n",
       "      <th>IsActiveMember</th>\n",
       "      <th>EstimatedSalary</th>\n",
       "      <th>Exited</th>\n",
       "      <th>Geography_Germany</th>\n",
       "      <th>Geography_Spain</th>\n",
       "      <th>Gender_Male</th>\n",
       "    </tr>\n",
       "  </thead>\n",
       "  <tbody>\n",
       "    <tr>\n",
       "      <th>0</th>\n",
       "      <td>619</td>\n",
       "      <td>42</td>\n",
       "      <td>2</td>\n",
       "      <td>0.00</td>\n",
       "      <td>1</td>\n",
       "      <td>1</td>\n",
       "      <td>1</td>\n",
       "      <td>101348.88</td>\n",
       "      <td>1</td>\n",
       "      <td>0</td>\n",
       "      <td>0</td>\n",
       "      <td>0</td>\n",
       "    </tr>\n",
       "    <tr>\n",
       "      <th>1</th>\n",
       "      <td>608</td>\n",
       "      <td>41</td>\n",
       "      <td>1</td>\n",
       "      <td>83807.86</td>\n",
       "      <td>1</td>\n",
       "      <td>0</td>\n",
       "      <td>1</td>\n",
       "      <td>112542.58</td>\n",
       "      <td>0</td>\n",
       "      <td>0</td>\n",
       "      <td>1</td>\n",
       "      <td>0</td>\n",
       "    </tr>\n",
       "    <tr>\n",
       "      <th>2</th>\n",
       "      <td>502</td>\n",
       "      <td>42</td>\n",
       "      <td>8</td>\n",
       "      <td>159660.80</td>\n",
       "      <td>3</td>\n",
       "      <td>1</td>\n",
       "      <td>0</td>\n",
       "      <td>113931.57</td>\n",
       "      <td>1</td>\n",
       "      <td>0</td>\n",
       "      <td>0</td>\n",
       "      <td>0</td>\n",
       "    </tr>\n",
       "    <tr>\n",
       "      <th>3</th>\n",
       "      <td>699</td>\n",
       "      <td>39</td>\n",
       "      <td>1</td>\n",
       "      <td>0.00</td>\n",
       "      <td>2</td>\n",
       "      <td>0</td>\n",
       "      <td>0</td>\n",
       "      <td>93826.63</td>\n",
       "      <td>0</td>\n",
       "      <td>0</td>\n",
       "      <td>0</td>\n",
       "      <td>0</td>\n",
       "    </tr>\n",
       "    <tr>\n",
       "      <th>4</th>\n",
       "      <td>850</td>\n",
       "      <td>43</td>\n",
       "      <td>2</td>\n",
       "      <td>125510.82</td>\n",
       "      <td>1</td>\n",
       "      <td>1</td>\n",
       "      <td>1</td>\n",
       "      <td>79084.10</td>\n",
       "      <td>0</td>\n",
       "      <td>0</td>\n",
       "      <td>1</td>\n",
       "      <td>0</td>\n",
       "    </tr>\n",
       "  </tbody>\n",
       "</table>\n",
       "</div>"
      ],
      "text/plain": [
       "   CreditScore  Age  Tenure    Balance  NumOfProducts  HasCrCard  \\\n",
       "0          619   42       2       0.00              1          1   \n",
       "1          608   41       1   83807.86              1          0   \n",
       "2          502   42       8  159660.80              3          1   \n",
       "3          699   39       1       0.00              2          0   \n",
       "4          850   43       2  125510.82              1          1   \n",
       "\n",
       "   IsActiveMember  EstimatedSalary  Exited  Geography_Germany  \\\n",
       "0               1        101348.88       1                  0   \n",
       "1               1        112542.58       0                  0   \n",
       "2               0        113931.57       1                  0   \n",
       "3               0         93826.63       0                  0   \n",
       "4               1         79084.10       0                  0   \n",
       "\n",
       "   Geography_Spain  Gender_Male  \n",
       "0                0            0  \n",
       "1                1            0  \n",
       "2                0            0  \n",
       "3                0            0  \n",
       "4                1            0  "
      ]
     },
     "execution_count": 10,
     "metadata": {},
     "output_type": "execute_result"
    }
   ],
   "source": [
    "df.head()"
   ]
  },
  {
   "cell_type": "code",
   "execution_count": 11,
   "id": "d62fbee2",
   "metadata": {
    "_cell_guid": "43fdb33b-5cdb-4744-be39-072cb783c912",
    "_uuid": "a7cc7d33-a570-43ff-86bc-7b9b1c6b5e5b",
    "collapsed": false,
    "execution": {
     "iopub.execute_input": "2023-01-17T12:08:19.322007Z",
     "iopub.status.busy": "2023-01-17T12:08:19.321544Z",
     "iopub.status.idle": "2023-01-17T12:08:19.329668Z",
     "shell.execute_reply": "2023-01-17T12:08:19.328535Z"
    },
    "jupyter": {
     "outputs_hidden": false
    },
    "papermill": {
     "duration": 0.02322,
     "end_time": "2023-01-17T12:08:19.332471",
     "exception": false,
     "start_time": "2023-01-17T12:08:19.309251",
     "status": "completed"
    },
    "tags": []
   },
   "outputs": [],
   "source": [
    "x = df.drop(columns=['Exited'])\n",
    "y = df['Exited'].values"
   ]
  },
  {
   "cell_type": "code",
   "execution_count": 12,
   "id": "10a58140",
   "metadata": {
    "_cell_guid": "cfbd4a9a-de78-472f-8602-1d99208f1a1c",
    "_uuid": "1bddf879-4261-40f6-8979-3c52ea583788",
    "collapsed": false,
    "execution": {
     "iopub.execute_input": "2023-01-17T12:08:19.355372Z",
     "iopub.status.busy": "2023-01-17T12:08:19.354928Z",
     "iopub.status.idle": "2023-01-17T12:08:20.565319Z",
     "shell.execute_reply": "2023-01-17T12:08:20.563903Z"
    },
    "jupyter": {
     "outputs_hidden": false
    },
    "papermill": {
     "duration": 1.225335,
     "end_time": "2023-01-17T12:08:20.568272",
     "exception": false,
     "start_time": "2023-01-17T12:08:19.342937",
     "status": "completed"
    },
    "tags": []
   },
   "outputs": [],
   "source": [
    "from sklearn.model_selection import train_test_split\n",
    "x_train,x_test,y_train,y_test = train_test_split(x,y,test_size=0.2,random_state=0)"
   ]
  },
  {
   "cell_type": "code",
   "execution_count": 13,
   "id": "a62b0a10",
   "metadata": {
    "_cell_guid": "18c927b0-4a90-4d63-876d-cc7d23a93d11",
    "_uuid": "69c04723-06d0-40dd-9dfa-53623c747388",
    "collapsed": false,
    "execution": {
     "iopub.execute_input": "2023-01-17T12:08:20.591380Z",
     "iopub.status.busy": "2023-01-17T12:08:20.590912Z",
     "iopub.status.idle": "2023-01-17T12:08:20.606647Z",
     "shell.execute_reply": "2023-01-17T12:08:20.605152Z"
    },
    "jupyter": {
     "outputs_hidden": false
    },
    "papermill": {
     "duration": 0.030746,
     "end_time": "2023-01-17T12:08:20.609791",
     "exception": false,
     "start_time": "2023-01-17T12:08:20.579045",
     "status": "completed"
    },
    "tags": []
   },
   "outputs": [],
   "source": [
    "from sklearn.preprocessing import StandardScaler\n",
    "scaler = StandardScaler()\n",
    "x_train_trf = scaler.fit_transform(x_train)\n",
    "x_test_trf = scaler.transform(x_test)"
   ]
  },
  {
   "cell_type": "code",
   "execution_count": 14,
   "id": "4b10c237",
   "metadata": {
    "_cell_guid": "f06be331-c9fb-4805-981e-928c69dab3b4",
    "_uuid": "f3bcccd4-f128-463f-b95e-95aa3be994ce",
    "collapsed": false,
    "execution": {
     "iopub.execute_input": "2023-01-17T12:08:20.634859Z",
     "iopub.status.busy": "2023-01-17T12:08:20.633979Z",
     "iopub.status.idle": "2023-01-17T12:08:27.624090Z",
     "shell.execute_reply": "2023-01-17T12:08:27.622828Z"
    },
    "jupyter": {
     "outputs_hidden": false
    },
    "papermill": {
     "duration": 7.005339,
     "end_time": "2023-01-17T12:08:27.627170",
     "exception": false,
     "start_time": "2023-01-17T12:08:20.621831",
     "status": "completed"
    },
    "tags": []
   },
   "outputs": [],
   "source": [
    "import tensorflow\n",
    "from tensorflow import keras\n",
    "from tensorflow.keras import Sequential\n",
    "from tensorflow.keras.layers import Dense"
   ]
  },
  {
   "cell_type": "code",
   "execution_count": 15,
   "id": "e8e21b53",
   "metadata": {
    "_cell_guid": "a6affde7-d63d-4b07-9d56-9833a895dba1",
    "_uuid": "1270a108-d521-4315-a3d0-15347045c148",
    "collapsed": false,
    "execution": {
     "iopub.execute_input": "2023-01-17T12:08:27.651484Z",
     "iopub.status.busy": "2023-01-17T12:08:27.650746Z",
     "iopub.status.idle": "2023-01-17T12:08:27.792821Z",
     "shell.execute_reply": "2023-01-17T12:08:27.791360Z"
    },
    "jupyter": {
     "outputs_hidden": false
    },
    "papermill": {
     "duration": 0.15726,
     "end_time": "2023-01-17T12:08:27.795532",
     "exception": false,
     "start_time": "2023-01-17T12:08:27.638272",
     "status": "completed"
    },
    "tags": []
   },
   "outputs": [
    {
     "name": "stderr",
     "output_type": "stream",
     "text": [
      "2023-01-17 12:08:27.702137: I tensorflow/core/common_runtime/process_util.cc:146] Creating new thread pool with default inter op setting: 2. Tune using inter_op_parallelism_threads for best performance.\n"
     ]
    }
   ],
   "source": [
    "model = Sequential()\n",
    "\n",
    "model.add(Dense(11,activation='sigmoid',input_dim=11))\n",
    "model.add(Dense(11,activation='sigmoid'))\n",
    "model.add(Dense(1,activation='sigmoid'))"
   ]
  },
  {
   "cell_type": "code",
   "execution_count": 16,
   "id": "a9bb715f",
   "metadata": {
    "_cell_guid": "fcaf9413-6dac-4da3-a4c2-015539cf10a9",
    "_uuid": "f0c214ec-f035-455a-a346-7ea386eaa68d",
    "collapsed": false,
    "execution": {
     "iopub.execute_input": "2023-01-17T12:08:27.819198Z",
     "iopub.status.busy": "2023-01-17T12:08:27.818741Z",
     "iopub.status.idle": "2023-01-17T12:08:27.826657Z",
     "shell.execute_reply": "2023-01-17T12:08:27.824784Z"
    },
    "jupyter": {
     "outputs_hidden": false
    },
    "papermill": {
     "duration": 0.022776,
     "end_time": "2023-01-17T12:08:27.829464",
     "exception": false,
     "start_time": "2023-01-17T12:08:27.806688",
     "status": "completed"
    },
    "tags": []
   },
   "outputs": [
    {
     "name": "stdout",
     "output_type": "stream",
     "text": [
      "Model: \"sequential\"\n",
      "_________________________________________________________________\n",
      "Layer (type)                 Output Shape              Param #   \n",
      "=================================================================\n",
      "dense (Dense)                (None, 11)                132       \n",
      "_________________________________________________________________\n",
      "dense_1 (Dense)              (None, 11)                132       \n",
      "_________________________________________________________________\n",
      "dense_2 (Dense)              (None, 1)                 12        \n",
      "=================================================================\n",
      "Total params: 276\n",
      "Trainable params: 276\n",
      "Non-trainable params: 0\n",
      "_________________________________________________________________\n"
     ]
    }
   ],
   "source": [
    "model.summary()"
   ]
  },
  {
   "cell_type": "code",
   "execution_count": 17,
   "id": "a47a62e3",
   "metadata": {
    "_cell_guid": "be1ea243-45a4-4c14-bf66-03ae21c52bce",
    "_uuid": "6a8770e0-89a1-4726-8d06-c5eca0bb0037",
    "collapsed": false,
    "execution": {
     "iopub.execute_input": "2023-01-17T12:08:27.853922Z",
     "iopub.status.busy": "2023-01-17T12:08:27.853102Z",
     "iopub.status.idle": "2023-01-17T12:08:27.867459Z",
     "shell.execute_reply": "2023-01-17T12:08:27.866325Z"
    },
    "jupyter": {
     "outputs_hidden": false
    },
    "papermill": {
     "duration": 0.029659,
     "end_time": "2023-01-17T12:08:27.870543",
     "exception": false,
     "start_time": "2023-01-17T12:08:27.840884",
     "status": "completed"
    },
    "tags": []
   },
   "outputs": [],
   "source": [
    "model.compile(optimizer='Adam',loss='binary_crossentropy',metrics=['accuracy'])"
   ]
  },
  {
   "cell_type": "code",
   "execution_count": 18,
   "id": "e845f57b",
   "metadata": {
    "_cell_guid": "02764ec1-c0ce-4e1e-9411-491b2635d3c4",
    "_uuid": "c15dc38e-48b5-439a-9995-afa53a42ecb5",
    "collapsed": false,
    "execution": {
     "iopub.execute_input": "2023-01-17T12:08:27.894557Z",
     "iopub.status.busy": "2023-01-17T12:08:27.893516Z",
     "iopub.status.idle": "2023-01-17T12:08:58.847676Z",
     "shell.execute_reply": "2023-01-17T12:08:58.845914Z"
    },
    "jupyter": {
     "outputs_hidden": false
    },
    "papermill": {
     "duration": 30.969313,
     "end_time": "2023-01-17T12:08:58.850791",
     "exception": false,
     "start_time": "2023-01-17T12:08:27.881478",
     "status": "completed"
    },
    "tags": []
   },
   "outputs": [
    {
     "name": "stderr",
     "output_type": "stream",
     "text": [
      "2023-01-17 12:08:27.991869: I tensorflow/compiler/mlir/mlir_graph_optimization_pass.cc:185] None of the MLIR Optimization Passes are enabled (registered 2)\n"
     ]
    },
    {
     "name": "stdout",
     "output_type": "stream",
     "text": [
      "Epoch 1/100\n",
      "128/128 [==============================] - 1s 4ms/step - loss: 0.6983 - accuracy: 0.5333 - val_loss: 0.5686 - val_accuracy: 0.7969\n",
      "Epoch 2/100\n",
      "128/128 [==============================] - 0s 2ms/step - loss: 0.5334 - accuracy: 0.7958 - val_loss: 0.5124 - val_accuracy: 0.7969\n",
      "Epoch 3/100\n",
      "128/128 [==============================] - 0s 2ms/step - loss: 0.5088 - accuracy: 0.7958 - val_loss: 0.5044 - val_accuracy: 0.7969\n",
      "Epoch 4/100\n",
      "128/128 [==============================] - 0s 2ms/step - loss: 0.5058 - accuracy: 0.7958 - val_loss: 0.5030 - val_accuracy: 0.7969\n",
      "Epoch 5/100\n",
      "128/128 [==============================] - 0s 2ms/step - loss: 0.5043 - accuracy: 0.7958 - val_loss: 0.5013 - val_accuracy: 0.7969\n",
      "Epoch 6/100\n",
      "128/128 [==============================] - 0s 2ms/step - loss: 0.5039 - accuracy: 0.7958 - val_loss: 0.5010 - val_accuracy: 0.7969\n",
      "Epoch 7/100\n",
      "128/128 [==============================] - 0s 2ms/step - loss: 0.5037 - accuracy: 0.7958 - val_loss: 0.5007 - val_accuracy: 0.7969\n",
      "Epoch 8/100\n",
      "128/128 [==============================] - 0s 2ms/step - loss: 0.5035 - accuracy: 0.7958 - val_loss: 0.5004 - val_accuracy: 0.7969\n",
      "Epoch 9/100\n",
      "128/128 [==============================] - 0s 2ms/step - loss: 0.5033 - accuracy: 0.7958 - val_loss: 0.5001 - val_accuracy: 0.7969\n",
      "Epoch 10/100\n",
      "128/128 [==============================] - 0s 2ms/step - loss: 0.5031 - accuracy: 0.7958 - val_loss: 0.4998 - val_accuracy: 0.7969\n",
      "Epoch 11/100\n",
      "128/128 [==============================] - 0s 2ms/step - loss: 0.5029 - accuracy: 0.7958 - val_loss: 0.4995 - val_accuracy: 0.7969\n",
      "Epoch 12/100\n",
      "128/128 [==============================] - 0s 2ms/step - loss: 0.5027 - accuracy: 0.7958 - val_loss: 0.4992 - val_accuracy: 0.7969\n",
      "Epoch 13/100\n",
      "128/128 [==============================] - 0s 2ms/step - loss: 0.5026 - accuracy: 0.7958 - val_loss: 0.4990 - val_accuracy: 0.7969\n",
      "Epoch 14/100\n",
      "128/128 [==============================] - 0s 2ms/step - loss: 0.5025 - accuracy: 0.7958 - val_loss: 0.4988 - val_accuracy: 0.7969\n",
      "Epoch 15/100\n",
      "128/128 [==============================] - 0s 2ms/step - loss: 0.5023 - accuracy: 0.7958 - val_loss: 0.4987 - val_accuracy: 0.7969\n",
      "Epoch 16/100\n",
      "128/128 [==============================] - 0s 2ms/step - loss: 0.5023 - accuracy: 0.7958 - val_loss: 0.4984 - val_accuracy: 0.7969\n",
      "Epoch 17/100\n",
      "128/128 [==============================] - 0s 2ms/step - loss: 0.5021 - accuracy: 0.7958 - val_loss: 0.4982 - val_accuracy: 0.7969\n",
      "Epoch 18/100\n",
      "128/128 [==============================] - 0s 2ms/step - loss: 0.5021 - accuracy: 0.7958 - val_loss: 0.4981 - val_accuracy: 0.7969\n",
      "Epoch 19/100\n",
      "128/128 [==============================] - 0s 2ms/step - loss: 0.5018 - accuracy: 0.7958 - val_loss: 0.4981 - val_accuracy: 0.7969\n",
      "Epoch 20/100\n",
      "128/128 [==============================] - 0s 2ms/step - loss: 0.5020 - accuracy: 0.7958 - val_loss: 0.4981 - val_accuracy: 0.7969\n",
      "Epoch 21/100\n",
      "128/128 [==============================] - 0s 2ms/step - loss: 0.5017 - accuracy: 0.7958 - val_loss: 0.4978 - val_accuracy: 0.7969\n",
      "Epoch 22/100\n",
      "128/128 [==============================] - 0s 2ms/step - loss: 0.5016 - accuracy: 0.7958 - val_loss: 0.4978 - val_accuracy: 0.7969\n",
      "Epoch 23/100\n",
      "128/128 [==============================] - 0s 2ms/step - loss: 0.5020 - accuracy: 0.7958 - val_loss: 0.4988 - val_accuracy: 0.7969\n",
      "Epoch 24/100\n",
      "128/128 [==============================] - 0s 2ms/step - loss: 0.5020 - accuracy: 0.7958 - val_loss: 0.4977 - val_accuracy: 0.7969\n",
      "Epoch 25/100\n",
      "128/128 [==============================] - 0s 2ms/step - loss: 0.5025 - accuracy: 0.7958 - val_loss: 0.5012 - val_accuracy: 0.7969\n",
      "Epoch 26/100\n",
      "128/128 [==============================] - 0s 2ms/step - loss: 0.5033 - accuracy: 0.7958 - val_loss: 0.5010 - val_accuracy: 0.7969\n",
      "Epoch 27/100\n",
      "128/128 [==============================] - 0s 2ms/step - loss: 0.5037 - accuracy: 0.7958 - val_loss: 0.5010 - val_accuracy: 0.7969\n",
      "Epoch 28/100\n",
      "128/128 [==============================] - 0s 2ms/step - loss: 0.5043 - accuracy: 0.7958 - val_loss: 0.5012 - val_accuracy: 0.7969\n",
      "Epoch 29/100\n",
      "128/128 [==============================] - 0s 2ms/step - loss: 0.5045 - accuracy: 0.7958 - val_loss: 0.5009 - val_accuracy: 0.7969\n",
      "Epoch 30/100\n",
      "128/128 [==============================] - 0s 2ms/step - loss: 0.5045 - accuracy: 0.7958 - val_loss: 0.5009 - val_accuracy: 0.7969\n",
      "Epoch 31/100\n",
      "128/128 [==============================] - 0s 2ms/step - loss: 0.5045 - accuracy: 0.7958 - val_loss: 0.5010 - val_accuracy: 0.7969\n",
      "Epoch 32/100\n",
      "128/128 [==============================] - 0s 2ms/step - loss: 0.5044 - accuracy: 0.7958 - val_loss: 0.5014 - val_accuracy: 0.7969\n",
      "Epoch 33/100\n",
      "128/128 [==============================] - 0s 2ms/step - loss: 0.5046 - accuracy: 0.7958 - val_loss: 0.5012 - val_accuracy: 0.7969\n",
      "Epoch 34/100\n",
      "128/128 [==============================] - 0s 2ms/step - loss: 0.5046 - accuracy: 0.7958 - val_loss: 0.5012 - val_accuracy: 0.7969\n",
      "Epoch 35/100\n",
      "128/128 [==============================] - 0s 2ms/step - loss: 0.5043 - accuracy: 0.7958 - val_loss: 0.5012 - val_accuracy: 0.7969\n",
      "Epoch 36/100\n",
      "128/128 [==============================] - 1s 4ms/step - loss: 0.5044 - accuracy: 0.7958 - val_loss: 0.5014 - val_accuracy: 0.7969\n",
      "Epoch 37/100\n",
      "128/128 [==============================] - 0s 4ms/step - loss: 0.5049 - accuracy: 0.7958 - val_loss: 0.5012 - val_accuracy: 0.7969\n",
      "Epoch 38/100\n",
      "128/128 [==============================] - 0s 2ms/step - loss: 0.5045 - accuracy: 0.7958 - val_loss: 0.5014 - val_accuracy: 0.7969\n",
      "Epoch 39/100\n",
      "128/128 [==============================] - 0s 2ms/step - loss: 0.5046 - accuracy: 0.7958 - val_loss: 0.5012 - val_accuracy: 0.7969\n",
      "Epoch 40/100\n",
      "128/128 [==============================] - 0s 2ms/step - loss: 0.5046 - accuracy: 0.7958 - val_loss: 0.5011 - val_accuracy: 0.7969\n",
      "Epoch 41/100\n",
      "128/128 [==============================] - 0s 2ms/step - loss: 0.5044 - accuracy: 0.7958 - val_loss: 0.5012 - val_accuracy: 0.7969\n",
      "Epoch 42/100\n",
      "128/128 [==============================] - 0s 2ms/step - loss: 0.5043 - accuracy: 0.7958 - val_loss: 0.5017 - val_accuracy: 0.7969\n",
      "Epoch 43/100\n",
      "128/128 [==============================] - 0s 2ms/step - loss: 0.5044 - accuracy: 0.7958 - val_loss: 0.5012 - val_accuracy: 0.7969\n",
      "Epoch 44/100\n",
      "128/128 [==============================] - 0s 2ms/step - loss: 0.5045 - accuracy: 0.7958 - val_loss: 0.5012 - val_accuracy: 0.7969\n",
      "Epoch 45/100\n",
      "128/128 [==============================] - 0s 2ms/step - loss: 0.5045 - accuracy: 0.7958 - val_loss: 0.5012 - val_accuracy: 0.7969\n",
      "Epoch 46/100\n",
      "128/128 [==============================] - 0s 2ms/step - loss: 0.5045 - accuracy: 0.7958 - val_loss: 0.5012 - val_accuracy: 0.7969\n",
      "Epoch 47/100\n",
      "128/128 [==============================] - 0s 2ms/step - loss: 0.5047 - accuracy: 0.7958 - val_loss: 0.5013 - val_accuracy: 0.7969\n",
      "Epoch 48/100\n",
      "128/128 [==============================] - 0s 2ms/step - loss: 0.5044 - accuracy: 0.7958 - val_loss: 0.5011 - val_accuracy: 0.7969\n",
      "Epoch 49/100\n",
      "128/128 [==============================] - 0s 2ms/step - loss: 0.5044 - accuracy: 0.7958 - val_loss: 0.5012 - val_accuracy: 0.7969\n",
      "Epoch 50/100\n",
      "128/128 [==============================] - 0s 2ms/step - loss: 0.5044 - accuracy: 0.7958 - val_loss: 0.5012 - val_accuracy: 0.7969\n",
      "Epoch 51/100\n",
      "128/128 [==============================] - 0s 2ms/step - loss: 0.5046 - accuracy: 0.7958 - val_loss: 0.5013 - val_accuracy: 0.7969\n",
      "Epoch 52/100\n",
      "128/128 [==============================] - 0s 2ms/step - loss: 0.5045 - accuracy: 0.7958 - val_loss: 0.5012 - val_accuracy: 0.7969\n",
      "Epoch 53/100\n",
      "128/128 [==============================] - 0s 3ms/step - loss: 0.5044 - accuracy: 0.7958 - val_loss: 0.5014 - val_accuracy: 0.7969\n",
      "Epoch 54/100\n",
      "128/128 [==============================] - 0s 3ms/step - loss: 0.5045 - accuracy: 0.7958 - val_loss: 0.5012 - val_accuracy: 0.7969\n",
      "Epoch 55/100\n",
      "128/128 [==============================] - 0s 2ms/step - loss: 0.5044 - accuracy: 0.7958 - val_loss: 0.5012 - val_accuracy: 0.7969\n",
      "Epoch 56/100\n",
      "128/128 [==============================] - 0s 3ms/step - loss: 0.5044 - accuracy: 0.7958 - val_loss: 0.5012 - val_accuracy: 0.7969\n",
      "Epoch 57/100\n",
      "128/128 [==============================] - 0s 2ms/step - loss: 0.5044 - accuracy: 0.7958 - val_loss: 0.5011 - val_accuracy: 0.7969\n",
      "Epoch 58/100\n",
      "128/128 [==============================] - 0s 2ms/step - loss: 0.5043 - accuracy: 0.7958 - val_loss: 0.5018 - val_accuracy: 0.7969\n",
      "Epoch 59/100\n",
      "128/128 [==============================] - 0s 2ms/step - loss: 0.5044 - accuracy: 0.7958 - val_loss: 0.5014 - val_accuracy: 0.7969\n",
      "Epoch 60/100\n",
      "128/128 [==============================] - 0s 2ms/step - loss: 0.5044 - accuracy: 0.7958 - val_loss: 0.5012 - val_accuracy: 0.7969\n",
      "Epoch 61/100\n",
      "128/128 [==============================] - 0s 2ms/step - loss: 0.5045 - accuracy: 0.7958 - val_loss: 0.5012 - val_accuracy: 0.7969\n",
      "Epoch 62/100\n",
      "128/128 [==============================] - 0s 2ms/step - loss: 0.5043 - accuracy: 0.7958 - val_loss: 0.5015 - val_accuracy: 0.7969\n",
      "Epoch 63/100\n",
      "128/128 [==============================] - 0s 2ms/step - loss: 0.5045 - accuracy: 0.7958 - val_loss: 0.5011 - val_accuracy: 0.7969\n",
      "Epoch 64/100\n",
      "128/128 [==============================] - 0s 2ms/step - loss: 0.5044 - accuracy: 0.7958 - val_loss: 0.5012 - val_accuracy: 0.7969\n",
      "Epoch 65/100\n",
      "128/128 [==============================] - 0s 2ms/step - loss: 0.5044 - accuracy: 0.7958 - val_loss: 0.5013 - val_accuracy: 0.7969\n",
      "Epoch 66/100\n",
      "128/128 [==============================] - 0s 2ms/step - loss: 0.5044 - accuracy: 0.7958 - val_loss: 0.5012 - val_accuracy: 0.7969\n",
      "Epoch 67/100\n",
      "128/128 [==============================] - 0s 2ms/step - loss: 0.5046 - accuracy: 0.7958 - val_loss: 0.5012 - val_accuracy: 0.7969\n",
      "Epoch 68/100\n",
      "128/128 [==============================] - 0s 2ms/step - loss: 0.5045 - accuracy: 0.7958 - val_loss: 0.5012 - val_accuracy: 0.7969\n",
      "Epoch 69/100\n",
      "128/128 [==============================] - 0s 2ms/step - loss: 0.5045 - accuracy: 0.7958 - val_loss: 0.5011 - val_accuracy: 0.7969\n",
      "Epoch 70/100\n",
      "128/128 [==============================] - 0s 2ms/step - loss: 0.5046 - accuracy: 0.7958 - val_loss: 0.5012 - val_accuracy: 0.7969\n",
      "Epoch 71/100\n",
      "128/128 [==============================] - 0s 3ms/step - loss: 0.5043 - accuracy: 0.7958 - val_loss: 0.5011 - val_accuracy: 0.7969\n",
      "Epoch 72/100\n",
      "128/128 [==============================] - 0s 2ms/step - loss: 0.5044 - accuracy: 0.7958 - val_loss: 0.5011 - val_accuracy: 0.7969\n",
      "Epoch 73/100\n",
      "128/128 [==============================] - 0s 2ms/step - loss: 0.5044 - accuracy: 0.7958 - val_loss: 0.5011 - val_accuracy: 0.7969\n",
      "Epoch 74/100\n",
      "128/128 [==============================] - 0s 2ms/step - loss: 0.5044 - accuracy: 0.7958 - val_loss: 0.5011 - val_accuracy: 0.7969\n",
      "Epoch 75/100\n",
      "128/128 [==============================] - 0s 2ms/step - loss: 0.5044 - accuracy: 0.7958 - val_loss: 0.5013 - val_accuracy: 0.7969\n",
      "Epoch 76/100\n",
      "128/128 [==============================] - 0s 2ms/step - loss: 0.5044 - accuracy: 0.7958 - val_loss: 0.5012 - val_accuracy: 0.7969\n",
      "Epoch 77/100\n",
      "128/128 [==============================] - 0s 2ms/step - loss: 0.5042 - accuracy: 0.7958 - val_loss: 0.5012 - val_accuracy: 0.7969\n",
      "Epoch 78/100\n",
      "128/128 [==============================] - 0s 2ms/step - loss: 0.5044 - accuracy: 0.7958 - val_loss: 0.5012 - val_accuracy: 0.7969\n",
      "Epoch 79/100\n",
      "128/128 [==============================] - 0s 2ms/step - loss: 0.5044 - accuracy: 0.7958 - val_loss: 0.5011 - val_accuracy: 0.7969\n",
      "Epoch 80/100\n",
      "128/128 [==============================] - 0s 2ms/step - loss: 0.5043 - accuracy: 0.7958 - val_loss: 0.5018 - val_accuracy: 0.7969\n",
      "Epoch 81/100\n",
      "128/128 [==============================] - 0s 2ms/step - loss: 0.5044 - accuracy: 0.7958 - val_loss: 0.5016 - val_accuracy: 0.7969\n",
      "Epoch 82/100\n",
      "128/128 [==============================] - 0s 2ms/step - loss: 0.5045 - accuracy: 0.7958 - val_loss: 0.5011 - val_accuracy: 0.7969\n",
      "Epoch 83/100\n",
      "128/128 [==============================] - 0s 2ms/step - loss: 0.5046 - accuracy: 0.7958 - val_loss: 0.5011 - val_accuracy: 0.7969\n",
      "Epoch 84/100\n",
      "128/128 [==============================] - 0s 2ms/step - loss: 0.5043 - accuracy: 0.7958 - val_loss: 0.5011 - val_accuracy: 0.7969\n",
      "Epoch 85/100\n",
      "128/128 [==============================] - 0s 2ms/step - loss: 0.5044 - accuracy: 0.7958 - val_loss: 0.5011 - val_accuracy: 0.7969\n",
      "Epoch 86/100\n",
      "128/128 [==============================] - 0s 2ms/step - loss: 0.5044 - accuracy: 0.7958 - val_loss: 0.5012 - val_accuracy: 0.7969\n",
      "Epoch 87/100\n",
      "128/128 [==============================] - 0s 2ms/step - loss: 0.5044 - accuracy: 0.7958 - val_loss: 0.5011 - val_accuracy: 0.7969\n",
      "Epoch 88/100\n",
      "128/128 [==============================] - 0s 2ms/step - loss: 0.5045 - accuracy: 0.7958 - val_loss: 0.5015 - val_accuracy: 0.7969\n",
      "Epoch 89/100\n",
      "128/128 [==============================] - 0s 2ms/step - loss: 0.5044 - accuracy: 0.7958 - val_loss: 0.5011 - val_accuracy: 0.7969\n",
      "Epoch 90/100\n",
      "128/128 [==============================] - 0s 2ms/step - loss: 0.5046 - accuracy: 0.7958 - val_loss: 0.5012 - val_accuracy: 0.7969\n",
      "Epoch 91/100\n",
      "128/128 [==============================] - 0s 2ms/step - loss: 0.5044 - accuracy: 0.7958 - val_loss: 0.5012 - val_accuracy: 0.7969\n",
      "Epoch 92/100\n",
      "128/128 [==============================] - 0s 2ms/step - loss: 0.5047 - accuracy: 0.7958 - val_loss: 0.5012 - val_accuracy: 0.7969\n",
      "Epoch 93/100\n",
      "128/128 [==============================] - 0s 2ms/step - loss: 0.5047 - accuracy: 0.7958 - val_loss: 0.5012 - val_accuracy: 0.7969\n",
      "Epoch 94/100\n",
      "128/128 [==============================] - 0s 2ms/step - loss: 0.5044 - accuracy: 0.7958 - val_loss: 0.5011 - val_accuracy: 0.7969\n",
      "Epoch 95/100\n",
      "128/128 [==============================] - 0s 2ms/step - loss: 0.5045 - accuracy: 0.7958 - val_loss: 0.5012 - val_accuracy: 0.7969\n",
      "Epoch 96/100\n",
      "128/128 [==============================] - 0s 2ms/step - loss: 0.5046 - accuracy: 0.7958 - val_loss: 0.5011 - val_accuracy: 0.7969\n",
      "Epoch 97/100\n",
      "128/128 [==============================] - 0s 2ms/step - loss: 0.5045 - accuracy: 0.7958 - val_loss: 0.5011 - val_accuracy: 0.7969\n",
      "Epoch 98/100\n",
      "128/128 [==============================] - 0s 2ms/step - loss: 0.5045 - accuracy: 0.7958 - val_loss: 0.5012 - val_accuracy: 0.7969\n",
      "Epoch 99/100\n",
      "128/128 [==============================] - 0s 2ms/step - loss: 0.5044 - accuracy: 0.7958 - val_loss: 0.5011 - val_accuracy: 0.7969\n",
      "Epoch 100/100\n",
      "128/128 [==============================] - 0s 2ms/step - loss: 0.5045 - accuracy: 0.7958 - val_loss: 0.5011 - val_accuracy: 0.7969\n"
     ]
    }
   ],
   "source": [
    "history=model.fit(x_train,y_train,batch_size=50,epochs=100,verbose=1,validation_split=0.2)"
   ]
  },
  {
   "cell_type": "code",
   "execution_count": 19,
   "id": "6c104ddf",
   "metadata": {
    "_cell_guid": "3855d406-c5f2-4246-8e83-b32e6a5fe603",
    "_uuid": "7ccedb33-9e2a-413a-8081-81254b5a8dcc",
    "collapsed": false,
    "execution": {
     "iopub.execute_input": "2023-01-17T12:08:58.947945Z",
     "iopub.status.busy": "2023-01-17T12:08:58.947476Z",
     "iopub.status.idle": "2023-01-17T12:08:59.163038Z",
     "shell.execute_reply": "2023-01-17T12:08:59.161859Z"
    },
    "jupyter": {
     "outputs_hidden": false
    },
    "papermill": {
     "duration": 0.267532,
     "end_time": "2023-01-17T12:08:59.165989",
     "exception": false,
     "start_time": "2023-01-17T12:08:58.898457",
     "status": "completed"
    },
    "tags": []
   },
   "outputs": [],
   "source": [
    "y_pred = model.predict(x_test)"
   ]
  },
  {
   "cell_type": "code",
   "execution_count": 20,
   "id": "82b33285",
   "metadata": {
    "_cell_guid": "e63fc1a9-2940-4e55-9c7d-466d1f9e1349",
    "_uuid": "bb151b20-0b8e-4465-afa0-35fc6e7e4f72",
    "collapsed": false,
    "execution": {
     "iopub.execute_input": "2023-01-17T12:08:59.262301Z",
     "iopub.status.busy": "2023-01-17T12:08:59.261878Z",
     "iopub.status.idle": "2023-01-17T12:08:59.269617Z",
     "shell.execute_reply": "2023-01-17T12:08:59.268324Z"
    },
    "jupyter": {
     "outputs_hidden": false
    },
    "papermill": {
     "duration": 0.058936,
     "end_time": "2023-01-17T12:08:59.271947",
     "exception": false,
     "start_time": "2023-01-17T12:08:59.213011",
     "status": "completed"
    },
    "tags": []
   },
   "outputs": [
    {
     "data": {
      "text/plain": [
       "array([[0.18289065],\n",
       "       [0.18289065],\n",
       "       [0.23366731],\n",
       "       ...,\n",
       "       [0.23366731],\n",
       "       [0.23237875],\n",
       "       [0.18289065]], dtype=float32)"
      ]
     },
     "execution_count": 20,
     "metadata": {},
     "output_type": "execute_result"
    }
   ],
   "source": [
    "y_pred"
   ]
  },
  {
   "cell_type": "code",
   "execution_count": 21,
   "id": "24aee46b",
   "metadata": {
    "_cell_guid": "74bec171-965b-4671-93e1-57ce548ff5b6",
    "_uuid": "ee83ae91-4418-4056-969f-d781abc1c7fa",
    "collapsed": false,
    "execution": {
     "iopub.execute_input": "2023-01-17T12:08:59.372665Z",
     "iopub.status.busy": "2023-01-17T12:08:59.372136Z",
     "iopub.status.idle": "2023-01-17T12:08:59.377672Z",
     "shell.execute_reply": "2023-01-17T12:08:59.376413Z"
    },
    "jupyter": {
     "outputs_hidden": false
    },
    "papermill": {
     "duration": 0.059043,
     "end_time": "2023-01-17T12:08:59.380129",
     "exception": false,
     "start_time": "2023-01-17T12:08:59.321086",
     "status": "completed"
    },
    "tags": []
   },
   "outputs": [],
   "source": [
    "y_pred = y_pred.argmax(axis=-1)"
   ]
  },
  {
   "cell_type": "code",
   "execution_count": 22,
   "id": "c22283d8",
   "metadata": {
    "_cell_guid": "d585bce3-6701-41df-a2c3-adf4501440d3",
    "_uuid": "8aaf9a62-99ed-411f-a005-2fd83bd5a50e",
    "collapsed": false,
    "execution": {
     "iopub.execute_input": "2023-01-17T12:08:59.479204Z",
     "iopub.status.busy": "2023-01-17T12:08:59.478738Z",
     "iopub.status.idle": "2023-01-17T12:08:59.486594Z",
     "shell.execute_reply": "2023-01-17T12:08:59.485418Z"
    },
    "jupyter": {
     "outputs_hidden": false
    },
    "papermill": {
     "duration": 0.061179,
     "end_time": "2023-01-17T12:08:59.489248",
     "exception": false,
     "start_time": "2023-01-17T12:08:59.428069",
     "status": "completed"
    },
    "tags": []
   },
   "outputs": [
    {
     "data": {
      "text/plain": [
       "0.7975"
      ]
     },
     "execution_count": 22,
     "metadata": {},
     "output_type": "execute_result"
    }
   ],
   "source": [
    "from sklearn.metrics import accuracy_score\n",
    "accuracy_score(y_test,y_pred)"
   ]
  },
  {
   "cell_type": "code",
   "execution_count": 23,
   "id": "5c9429de",
   "metadata": {
    "_cell_guid": "2e760528-8eef-401c-83e7-03f99b36f164",
    "_uuid": "f4626604-40be-4496-b8e0-13dca7f59688",
    "collapsed": false,
    "execution": {
     "iopub.execute_input": "2023-01-17T12:08:59.588163Z",
     "iopub.status.busy": "2023-01-17T12:08:59.587707Z",
     "iopub.status.idle": "2023-01-17T12:08:59.851234Z",
     "shell.execute_reply": "2023-01-17T12:08:59.849715Z"
    },
    "jupyter": {
     "outputs_hidden": false
    },
    "papermill": {
     "duration": 0.316333,
     "end_time": "2023-01-17T12:08:59.853998",
     "exception": false,
     "start_time": "2023-01-17T12:08:59.537665",
     "status": "completed"
    },
    "tags": []
   },
   "outputs": [
    {
     "data": {
      "text/plain": [
       "[<matplotlib.lines.Line2D at 0x7f661c48b790>]"
      ]
     },
     "execution_count": 23,
     "metadata": {},
     "output_type": "execute_result"
    },
    {
     "data": {
      "image/png": "[encoded data removed]",
      "text/plain": [
       "<Figure size 432x288 with 1 Axes>"
      ]
     },
     "metadata": {
      "needs_background": "light"
     },
     "output_type": "display_data"
    }
   ],
   "source": [
    "import matplotlib.pyplot as plt\n",
    "\n",
    "plt.plot(history.history['loss'])\n",
    "plt.plot(history.history['val_loss'])"
   ]
  },
  {
   "cell_type": "code",
   "execution_count": 24,
   "id": "5369ac62",
   "metadata": {
    "_cell_guid": "70e58f27-9e4a-4297-a6fc-ae88ecbe2354",
    "_uuid": "22032240-b3fb-46d6-93f9-3d8e828e8a64",
    "collapsed": false,
    "execution": {
     "iopub.execute_input": "2023-01-17T12:08:59.952153Z",
     "iopub.status.busy": "2023-01-17T12:08:59.951699Z",
     "iopub.status.idle": "2023-01-17T12:09:00.161416Z",
     "shell.execute_reply": "2023-01-17T12:09:00.160208Z"
    },
    "jupyter": {
     "outputs_hidden": false
    },
    "papermill": {
     "duration": 0.2618,
     "end_time": "2023-01-17T12:09:00.163819",
     "exception": false,
     "start_time": "2023-01-17T12:08:59.902019",
     "status": "completed"
    },
    "tags": []
   },
   "outputs": [
    {
     "data": {
      "text/plain": [
       "[<matplotlib.lines.Line2D at 0x7f65feda4050>]"
      ]
     },
     "execution_count": 24,
     "metadata": {},
     "output_type": "execute_result"
    },
    {
     "data": {
      "image/png": "[encoded data removed]",
      "text/plain": [
       "<Figure size 432x288 with 1 Axes>"
      ]
     },
     "metadata": {
      "needs_background": "light"
     },
     "output_type": "display_data"
    }
   ],
   "source": [
    "plt.plot(history.history['accuracy'])\n",
    "plt.plot(history.history['val_accuracy'])"
   ]
  },
  {
   "cell_type": "code",
   "execution_count": 25,
   "id": "9a7480c3",
   "metadata": {
    "_cell_guid": "1f131e0e-5813-4caf-a476-1f882bdff67d",
    "_uuid": "634a8d3b-2bbf-4a63-bdd5-268b223251ee",
    "collapsed": false,
    "execution": {
     "iopub.execute_input": "2023-01-17T12:09:00.264167Z",
     "iopub.status.busy": "2023-01-17T12:09:00.263364Z",
     "iopub.status.idle": "2023-01-17T12:09:01.407121Z",
     "shell.execute_reply": "2023-01-17T12:09:01.405204Z"
    },
    "jupyter": {
     "outputs_hidden": false
    },
    "papermill": {
     "duration": 1.196659,
     "end_time": "2023-01-17T12:09:01.410181",
     "exception": false,
     "start_time": "2023-01-17T12:09:00.213522",
     "status": "completed"
    },
    "tags": []
   },
   "outputs": [
    {
     "name": "stdout",
     "output_type": "stream",
     "text": [
      "fatal: not a git repository (or any parent up to mount point /kaggle)\r\n",
      "Stopping at filesystem boundary (GIT_DISCOVERY_ACROSS_FILESYSTEM not set).\r\n"
     ]
    }
   ],
   "source": [
    "!git status"
   ]
  },
  {
   "cell_type": "code",
   "execution_count": 26,
   "id": "b235a008",
   "metadata": {
    "_cell_guid": "02b10f68-078a-4726-8e22-8c7179ba5959",
    "_uuid": "100b581b-c2fa-4908-bd7b-7f5f1ee79190",
    "collapsed": false,
    "execution": {
     "iopub.execute_input": "2023-01-17T12:09:01.511836Z",
     "iopub.status.busy": "2023-01-17T12:09:01.510267Z",
     "iopub.status.idle": "2023-01-17T12:09:02.630674Z",
     "shell.execute_reply": "2023-01-17T12:09:02.629014Z"
    },
    "jupyter": {
     "outputs_hidden": false
    },
    "papermill": {
     "duration": 1.175423,
     "end_time": "2023-01-17T12:09:02.633678",
     "exception": false,
     "start_time": "2023-01-17T12:09:01.458255",
     "status": "completed"
    },
    "tags": []
   },
   "outputs": [
    {
     "name": "stdout",
     "output_type": "stream",
     "text": [
      "Initialized empty Git repository in /kaggle/working/.git/\r\n"
     ]
    }
   ],
   "source": [
    "!git init\n"
   ]
  },
  {
   "cell_type": "code",
   "execution_count": null,
   "id": "eb7c5583",
   "metadata": {
    "_cell_guid": "5a94669c-1f60-4876-a55c-867a5e0fede5",
    "_uuid": "9eb77838-6f8b-479a-b178-68e945dc7918",
    "collapsed": false,
    "jupyter": {
     "outputs_hidden": false
    },
    "papermill": {
     "duration": 0.048344,
     "end_time": "2023-01-17T12:09:02.730473",
     "exception": false,
     "start_time": "2023-01-17T12:09:02.682129",
     "status": "completed"
    },
    "tags": []
   },
   "outputs": [],
   "source": []
  },
  {
   "cell_type": "code",
   "execution_count": null,
   "id": "0281dd9c",
   "metadata": {
    "_cell_guid": "b465af55-9c68-4c30-be5b-be6ed480685d",
    "_uuid": "84c995c4-9b3d-4e81-a7f7-87ae566a81a0",
    "collapsed": false,
    "jupyter": {
     "outputs_hidden": false
    },
    "papermill": {
     "duration": 0.048577,
     "end_time": "2023-01-17T12:09:02.828785",
     "exception": false,
     "start_time": "2023-01-17T12:09:02.780208",
     "status": "completed"
    },
    "tags": []
   },
   "outputs": [],
   "source": []
  },
  {
   "cell_type": "code",
   "execution_count": null,
   "id": "82b12684",
   "metadata": {
    "_cell_guid": "4682d5ed-01e0-428c-8906-46ce42aaa5d5",
    "_uuid": "dc67381f-2bb6-4d29-ba07-213dffee4f16",
    "collapsed": false,
    "jupyter": {
     "outputs_hidden": false
    },
    "papermill": {
     "duration": 0.048396,
     "end_time": "2023-01-17T12:09:02.926222",
     "exception": false,
     "start_time": "2023-01-17T12:09:02.877826",
     "status": "completed"
    },
    "tags": []
   },
   "outputs": [],
   "source": []
  },
  {
   "cell_type": "code",
   "execution_count": null,
   "id": "4175065c",
   "metadata": {
    "_cell_guid": "343a9b2f-b2c3-468a-9abb-1bf1d0e4480c",
    "_uuid": "4da46cad-3ec5-42fe-b267-a26ee7eb3dc6",
    "collapsed": false,
    "jupyter": {
     "outputs_hidden": false
    },
    "papermill": {
     "duration": 0.04902,
     "end_time": "2023-01-17T12:09:03.023931",
     "exception": false,
     "start_time": "2023-01-17T12:09:02.974911",
     "status": "completed"
    },
    "tags": []
   },
   "outputs": [],
   "source": []
  },
  {
   "cell_type": "code",
   "execution_count": null,
   "id": "4d978dee",
   "metadata": {
    "_cell_guid": "9683e33c-cfd8-469a-a8bb-139e2d6242e1",
    "_uuid": "cea3363c-626d-4ed4-89f9-4d3b05c739c7",
    "collapsed": false,
    "jupyter": {
     "outputs_hidden": false
    },
    "papermill": {
     "duration": 0.04837,
     "end_time": "2023-01-17T12:09:03.123259",
     "exception": false,
     "start_time": "2023-01-17T12:09:03.074889",
     "status": "completed"
    },
    "tags": []
   },
   "outputs": [],
   "source": []
  },
  {
   "cell_type": "code",
   "execution_count": null,
   "id": "50853e62",
   "metadata": {
    "_cell_guid": "4de74b30-7d38-4b5c-ada5-ac89157fa449",
    "_uuid": "fdca58c0-d781-42b3-907c-a0d7607d319c",
    "collapsed": false,
    "jupyter": {
     "outputs_hidden": false
    },
    "papermill": {
     "duration": 0.049801,
     "end_time": "2023-01-17T12:09:03.222118",
     "exception": false,
     "start_time": "2023-01-17T12:09:03.172317",
     "status": "completed"
    },
    "tags": []
   },
   "outputs": [],
   "source": []
  },
  {
   "cell_type": "code",
   "execution_count": null,
   "id": "5957ec7e",
   "metadata": {
    "_cell_guid": "31d8f01a-db21-4761-8aae-8447b41d66e5",
    "_uuid": "46ccf977-db18-426d-9f5e-e7c62c735b85",
    "collapsed": false,
    "jupyter": {
     "outputs_hidden": false
    },
    "papermill": {
     "duration": 0.048902,
     "end_time": "2023-01-17T12:09:03.319845",
     "exception": false,
     "start_time": "2023-01-17T12:09:03.270943",
     "status": "completed"
    },
    "tags": []
   },
   "outputs": [],
   "source": []
  }
 ],
 "metadata": {
  "kernelspec": {
   "display_name": "Python 3",
   "language": "python",
   "name": "python3"
  },
  "language_info": {
   "codemirror_mode": {
    "name": "ipython",
    "version": 3
   },
   "file_extension": ".py",
   "mimetype": "text/x-python",
   "name": "python",
   "nbconvert_exporter": "python",
   "pygments_lexer": "ipython3",
   "version": "3.7.12"
  },
  "papermill": {
   "default_parameters": {},
   "duration": 58.387261,
   "end_time": "2023-01-17T12:09:06.362079",
   "environment_variables": {},
   "exception": null,
   "input_path": "__notebook__.ipynb",
   "output_path": "__notebook__.ipynb",
   "parameters": {},
   "start_time": "2023-01-17T12:08:07.974818",
   "version": "2.3.4"
  }
 },
 "nbformat": 4,
 "nbformat_minor": 5
}
